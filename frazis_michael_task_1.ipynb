{
 "cells": [
  {
   "cell_type": "code",
   "execution_count": null,
   "metadata": {
    "collapsed": true,
    "pycharm": {
     "is_executing": true
    }
   },
   "outputs": [],
   "source": [
    "import random\n",
    "import math\n",
    "import matplotlib.pyplot as plt\n",
    "\n",
    "# Function to estimate pi using Monte Carlo simulation\n",
    "def return_estimate(n_samples):\n",
    "    num_inside = 0\n",
    "\n",
    "    for i in range(n_samples):\n",
    "        # Generate a random point between 0 and 1 for x.\n",
    "        x = random.random()\n",
    "\n",
    "        # Generate a random point between 0 and 1 for y.\n",
    "        y = random.random()\n",
    "\n",
    "        # Calculate the radius of this point.\n",
    "        r = math.sqrt(x ** 2 + y ** 2)\n",
    "\n",
    "        # Check if the point is inside the circle\n",
    "        if r < 1:\n",
    "            num_inside += 1\n",
    "\n",
    "    # Calculate pi estimate\n",
    "    estimate = 4 * num_inside / n_samples\n",
    "\n",
    "    return estimate\n",
    "\n",
    "# List of sample sizes for which we want to estimate pi\n",
    "result_list = [10 ** i for i in range(1, 7)]\n",
    "\n",
    "# Store the results and percent errors\n",
    "pi_estimates = []\n",
    "percent_errors = []\n",
    "\n",
    "# Loop over each sample size\n",
    "for n_samples in result_list:\n",
    "    estimate = return_estimate(n_samples)\n",
    "    pi_estimates.append(estimate)\n",
    "\n",
    "    # Calculate the percent error\n",
    "    percent_error = 100 * math.fabs(estimate - math.pi) / math.pi\n",
    "    percent_errors.append(percent_error)\n",
    "\n",
    "    print(f\"{n_samples} samples: Estimated Pi = {estimate}, Percent Error = {percent_error:.2f}%\")\n",
    "\n",
    "# Plot the percent errors\n",
    "plt.plot(result_list, percent_errors, 'bo-')\n",
    "\n",
    "# Add labels and title\n",
    "plt.xlabel(\"Number of Samples\")\n",
    "plt.ylabel(\"Percent Error (%)\")\n",
    "plt.title(\"Monte Carlo Pi Estimation - Percent Error\")\n",
    "\n",
    "plt.xscale('log')\n",
    "\n",
    "# Show the plot\n",
    "plt.show()"
   ]
  },
  {
   "cell_type": "code",
   "execution_count": 1,
   "outputs": [],
   "source": [
    "def calculate_distance(coord1, coord2):\n",
    "    x1, y1, z1 = coord1\n",
    "    x2, y2, z2 = coord2\n",
    "    dx = x2 - x1\n",
    "    dy = y2 - y1\n",
    "    dz = z2 - z1\n",
    "\n",
    "    distance = math.sqrt(dx ** 2 + dy ** 2 + dz ** 2)\n",
    "\n",
    "    return distance"
   ],
   "metadata": {
    "collapsed": false
   }
  },
  {
   "cell_type": "markdown",
   "source": [
    "MSSE day 3"
   ],
   "metadata": {
    "collapsed": false
   }
  },
  {
   "cell_type": "code",
   "execution_count": null,
   "outputs": [],
   "source": [
    "import math\n",
    "\n",
    "def calculate_LJ(r_ij):\n",
    "    \"\"\"\n",
    "    The LJ interaction energy between two particles.\n",
    "\n",
    "    Computes the pairwise Lennard Jones interaction energy based on the separation distance in reduced units.\n",
    "\n",
    "    Parameters\n",
    "    ----------\n",
    "    r_ij : float\n",
    "        The distance between the particles in reduced units.\n",
    "\n",
    "    Returns\n",
    "    -------\n",
    "    pairwise_energy : float\n",
    "        The pairwise Lennard Jones interaction energy in reduced units.\n",
    "\n",
    "    \"\"\"\n",
    "\n",
    "    r6_term = math.pow(1 / r_ij, 6)\n",
    "    r12_term = math.pow(r6_term, 2)\n",
    "\n",
    "    pairwise_energy = 4 * (r12_term - r6_term)\n",
    "\n",
    "    return pairwise_energy"
   ],
   "metadata": {
    "collapsed": false
   }
  },
  {
   "cell_type": "code",
   "execution_count": 2,
   "outputs": [
    {
     "ename": "AssertionError",
     "evalue": "",
     "output_type": "error",
     "traceback": [
      "\u001B[0;31m---------------------------------------------------------------------------\u001B[0m",
      "\u001B[0;31mAssertionError\u001B[0m                            Traceback (most recent call last)",
      "Input \u001B[0;32mIn [2]\u001B[0m, in \u001B[0;36m<cell line: 2>\u001B[0;34m()\u001B[0m\n\u001B[1;32m      1\u001B[0m \u001B[38;5;28;01massert\u001B[39;00m \u001B[38;5;241m1\u001B[39m \u001B[38;5;241m==\u001B[39m \u001B[38;5;241m1\u001B[39m\n\u001B[0;32m----> 2\u001B[0m \u001B[38;5;28;01massert\u001B[39;00m \u001B[38;5;241m1\u001B[39m \u001B[38;5;241m==\u001B[39m \u001B[38;5;241m2\u001B[39m\n\u001B[1;32m      3\u001B[0m \u001B[38;5;28;01massert\u001B[39;00m calculate_LJ(\u001B[38;5;241m1\u001B[39m) \u001B[38;5;241m==\u001B[39m \u001B[38;5;241m0\u001B[39m\n\u001B[1;32m      4\u001B[0m \u001B[38;5;28;01massert\u001B[39;00m calculate_LJ(math\u001B[38;5;241m.\u001B[39mpow(\u001B[38;5;241m2\u001B[39m, (\u001B[38;5;241m1\u001B[39m \u001B[38;5;241m/\u001B[39m \u001B[38;5;241m6\u001B[39m))) \u001B[38;5;241m==\u001B[39m \u001B[38;5;241m-\u001B[39m\u001B[38;5;241m1\u001B[39m\n",
      "\u001B[0;31mAssertionError\u001B[0m: "
     ]
    }
   ],
   "source": [
    "assert 1 == 1\n",
    "assert 1 == 2"
   ],
   "metadata": {
    "collapsed": false
   }
  },
  {
   "cell_type": "code",
   "execution_count": 3,
   "outputs": [
    {
     "ename": "NameError",
     "evalue": "name 'calculate_LJ' is not defined",
     "output_type": "error",
     "traceback": [
      "\u001B[0;31m---------------------------------------------------------------------------\u001B[0m",
      "\u001B[0;31mNameError\u001B[0m                                 Traceback (most recent call last)",
      "Input \u001B[0;32mIn [3]\u001B[0m, in \u001B[0;36m<cell line: 1>\u001B[0;34m()\u001B[0m\n\u001B[0;32m----> 1\u001B[0m \u001B[38;5;28;01massert\u001B[39;00m \u001B[43mcalculate_LJ\u001B[49m(\u001B[38;5;241m1\u001B[39m) \u001B[38;5;241m==\u001B[39m \u001B[38;5;241m0\u001B[39m\n\u001B[1;32m      2\u001B[0m \u001B[38;5;28;01massert\u001B[39;00m calculate_LJ(math\u001B[38;5;241m.\u001B[39mpow(\u001B[38;5;241m2\u001B[39m, (\u001B[38;5;241m1\u001B[39m \u001B[38;5;241m/\u001B[39m \u001B[38;5;241m6\u001B[39m))) \u001B[38;5;241m==\u001B[39m \u001B[38;5;241m-\u001B[39m\u001B[38;5;241m1\u001B[39m\n\u001B[1;32m      3\u001B[0m \u001B[38;5;28mprint\u001B[39m(calculate_LJ(\u001B[38;5;241m1\u001B[39m))\n",
      "\u001B[0;31mNameError\u001B[0m: name 'calculate_LJ' is not defined"
     ]
    }
   ],
   "source": [
    "assert calculate_LJ(1) == 0\n",
    "assert calculate_LJ(math.pow(2, (1 / 6))) == -1\n",
    "print(calculate_LJ(1))\n",
    "print(calculate_LJ(math.pow(2, (1 / 6))))"
   ],
   "metadata": {
    "collapsed": false
   }
  },
  {
   "cell_type": "code",
   "execution_count": null,
   "outputs": [],
   "source": [],
   "metadata": {
    "collapsed": false
   }
  }
 ],
 "metadata": {
  "kernelspec": {
   "display_name": "Python 3",
   "language": "python",
   "name": "python3"
  },
  "language_info": {
   "codemirror_mode": {
    "name": "ipython",
    "version": 2
   },
   "file_extension": ".py",
   "mimetype": "text/x-python",
   "name": "python",
   "nbconvert_exporter": "python",
   "pygments_lexer": "ipython2",
   "version": "2.7.6"
  }
 },
 "nbformat": 4,
 "nbformat_minor": 0
}
