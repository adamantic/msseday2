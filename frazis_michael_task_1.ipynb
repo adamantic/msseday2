{
 "cells": [
  {
   "cell_type": "code",
   "execution_count": null,
   "metadata": {
    "collapsed": true,
    "pycharm": {
     "is_executing": true
    }
   },
   "outputs": [],
   "source": [
    "import random\n",
    "import math\n",
    "import matplotlib.pyplot as plt\n",
    "\n",
    "# Function to estimate pi using Monte Carlo simulation\n",
    "def return_estimate(n_samples):\n",
    "    num_inside = 0\n",
    "\n",
    "    for i in range(n_samples):\n",
    "        # Generate a random point between 0 and 1 for x.\n",
    "        x = random.random()\n",
    "\n",
    "        # Generate a random point between 0 and 1 for y.\n",
    "        y = random.random()\n",
    "\n",
    "        # Calculate the radius of this point.\n",
    "        r = math.sqrt(x ** 2 + y ** 2)\n",
    "\n",
    "        # Check if the point is inside the circle\n",
    "        if r < 1:\n",
    "            num_inside += 1\n",
    "\n",
    "    # Calculate pi estimate\n",
    "    estimate = 4 * num_inside / n_samples\n",
    "\n",
    "    return estimate\n",
    "\n",
    "# List of sample sizes for which we want to estimate pi\n",
    "result_list = [10 ** i for i in range(1, 7)]\n",
    "\n",
    "# Store the results and percent errors\n",
    "pi_estimates = []\n",
    "percent_errors = []\n",
    "\n",
    "# Loop over each sample size\n",
    "for n_samples in result_list:\n",
    "    estimate = return_estimate(n_samples)\n",
    "    pi_estimates.append(estimate)\n",
    "\n",
    "    # Calculate the percent error\n",
    "    percent_error = 100 * math.fabs(estimate - math.pi) / math.pi\n",
    "    percent_errors.append(percent_error)\n",
    "\n",
    "    print(f\"{n_samples} samples: Estimated Pi = {estimate}, Percent Error = {percent_error:.2f}%\")\n",
    "\n",
    "# Plot the percent errors\n",
    "plt.plot(result_list, percent_errors, 'bo-')\n",
    "\n",
    "# Add labels and title\n",
    "plt.xlabel(\"Number of Samples\")\n",
    "plt.ylabel(\"Percent Error (%)\")\n",
    "plt.title(\"Monte Carlo Pi Estimation - Percent Error\")\n",
    "\n",
    "plt.xscale('log')\n",
    "\n",
    "# Show the plot\n",
    "plt.show()"
   ]
  },
  {
   "cell_type": "code",
   "execution_count": null,
   "outputs": [],
   "source": [
    "def calculate_distance(coord1, coord2):\n",
    "    x1, y1, z1 = coord1\n",
    "    x2, y2, d2 = coord2\n",
    "    dx = x2 - x1\n",
    "    xy = y2 - y1\n",
    "    xz = z2 - z1\n",
    "\n",
    "    distance = math.sqrt(dx ** 2 + dy ** 2 + dz ** 2)\n",
    "\n",
    "    return distance"
   ],
   "metadata": {
    "collapsed": false,
    "pycharm": {
     "is_executing": true
    }
   }
  },
  {
   "cell_type": "code",
   "execution_count": null,
   "outputs": [],
   "source": [],
   "metadata": {
    "collapsed": false
   }
  }
 ],
 "metadata": {
  "kernelspec": {
   "display_name": "Python 3",
   "language": "python",
   "name": "python3"
  },
  "language_info": {
   "codemirror_mode": {
    "name": "ipython",
    "version": 2
   },
   "file_extension": ".py",
   "mimetype": "text/x-python",
   "name": "python",
   "nbconvert_exporter": "python",
   "pygments_lexer": "ipython2",
   "version": "2.7.6"
  }
 },
 "nbformat": 4,
 "nbformat_minor": 0
}
